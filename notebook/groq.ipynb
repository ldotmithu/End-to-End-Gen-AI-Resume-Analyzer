{
 "cells": [
  {
   "cell_type": "code",
   "execution_count": 33,
   "metadata": {},
   "outputs": [],
   "source": [
    "import os\n",
    "from langchain_groq import ChatGroq\n",
    "from langchain.text_splitter import RecursiveCharacterTextSplitter\n",
    "from langchain.chains.combine_documents import create_stuff_documents_chain\n",
    "from langchain_core.prompts import ChatPromptTemplate\n",
    "from langchain.chains import create_retrieval_chain\n",
    "from langchain_community.vectorstores import FAISS\n",
    "from langchain_community.document_loaders import PyPDFDirectoryLoader,PyPDFLoader\n",
    "from langchain_google_genai import GoogleGenerativeAIEmbeddings\n",
    "from langchain.chat_models import ChatGooglePalm\n",
    "from langchain.embeddings import GooglePalmEmbeddings\n",
    "from langchain_google_genai import GoogleGenerativeAI\n",
    "from dotenv import load_dotenv\n",
    "from langchain.embeddings import HuggingFaceEmbeddings\n",
    "import os\n",
    "from langchain_groq import ChatGroq"
   ]
  },
  {
   "cell_type": "code",
   "execution_count": 34,
   "metadata": {},
   "outputs": [
    {
     "data": {
      "text/plain": [
       "True"
      ]
     },
     "execution_count": 34,
     "metadata": {},
     "output_type": "execute_result"
    }
   ],
   "source": [
    "load_dotenv()"
   ]
  },
  {
   "cell_type": "code",
   "execution_count": 35,
   "metadata": {},
   "outputs": [],
   "source": [
    "GROQ_API_KEY = os.getenv(\"GROQ_API_KEY\")"
   ]
  },
  {
   "cell_type": "code",
   "execution_count": 36,
   "metadata": {},
   "outputs": [],
   "source": [
    "llm = ChatGroq(\n",
    "    model='llama-3.3-70b-versatile',\n",
    "    temperature=0.3\n",
    ")"
   ]
  },
  {
   "cell_type": "code",
   "execution_count": 37,
   "metadata": {},
   "outputs": [],
   "source": [
    "from langchain_community.document_loaders import PyPDFLoader\n",
    "def get_data(file_path):\n",
    "    loader = PyPDFLoader(file_path)\n",
    "    data = loader.load()\n",
    "    return data "
   ]
  },
  {
   "cell_type": "code",
   "execution_count": 38,
   "metadata": {},
   "outputs": [],
   "source": [
    "data = get_data(\"LingeswaranMithurshanResume.pdf\")"
   ]
  },
  {
   "cell_type": "code",
   "execution_count": 39,
   "metadata": {},
   "outputs": [],
   "source": [
    "def get_chunks(data):\n",
    "    splitter = RecursiveCharacterTextSplitter(chunk_size = 1000,\n",
    "                                   chunk_overlap = 200)\n",
    "    docs = splitter.split_documents(data)\n",
    "    return docs"
   ]
  },
  {
   "cell_type": "code",
   "execution_count": 40,
   "metadata": {},
   "outputs": [],
   "source": [
    "docs = get_chunks(data)"
   ]
  },
  {
   "cell_type": "code",
   "execution_count": 41,
   "metadata": {},
   "outputs": [],
   "source": [
    "def get_embedding_vecter_index(docs):\n",
    "    vecter_store = FAISS.from_documents(documents=docs,embedding=HuggingFaceEmbeddings(model_name='sentence-transformers/all-MiniLM-L6-v2'))\n",
    "    return vecter_store"
   ]
  },
  {
   "cell_type": "code",
   "execution_count": 42,
   "metadata": {},
   "outputs": [],
   "source": [
    "vector_db = get_embedding_vecter_index(docs)"
   ]
  },
  {
   "cell_type": "code",
   "execution_count": 43,
   "metadata": {},
   "outputs": [],
   "source": [
    "from langchain.chains import create_retrieval_chain\n",
    "from langchain.chains.combine_documents import create_stuff_documents_chain\n",
    "from langchain.prompts import ChatPromptTemplate"
   ]
  },
  {
   "cell_type": "code",
   "execution_count": 44,
   "metadata": {},
   "outputs": [],
   "source": [
    "def get_rag_chain(vector_db):\n",
    "    system_prompt = (\n",
    "    \"\"\"\n",
    "    You are a Resume Analyzer Assistant. Your job is to evaluate resumes and provide clear, structured, and insightful feedback on skills, occupation, and overall structure.\n",
    "\n",
    "    ### Your tasks:\n",
    "    - **Identify strengths**\n",
    "    - **Suggest improvements**\n",
    "    - **Ensure alignment with industry standards**\n",
    "    - **Provide concise and actionable recommendations**\n",
    "\n",
    "    ### Guidelines:\n",
    "    1. If the user asks about something not available in the resume, generate a reasonable answer based on industry standards.\n",
    "    2. If the user's question is not relevant to resume analysis, respond with:\n",
    "    **\"I don't know. This question is not relevant for me. I am here to help you analyze and improve your resume.\"**\n",
    "    3. **Use bullet points or numbered lists** for structured responses.\n",
    "    4. **Keep answers short and to the point**.\n",
    "    5. **Ensure markdown-friendly formatting** for better readability.\n",
    "\n",
    "    ### Example Format:\n",
    "    **Strengths:**\n",
    "    - ✅ Clear experience in software development  \n",
    "    - ✅ Strong skills in Python and SQL  \n",
    "\n",
    "    **Areas for Improvement:**\n",
    "    1. Improve resume structure by adding a summary section  \n",
    "    2. Include specific project details with impact metrics  \n",
    "    3. Highlight technical skills using a separate section  \n",
    "\n",
    "    {context}\n",
    "    \"\"\"\n",
    ")\n",
    "    prompt = ChatPromptTemplate.from_messages([\n",
    "        (\"system\",system_prompt),\n",
    "        (\"human\",\"{input}\"),\n",
    "    ])\n",
    "    retriever = vector_db.as_retriever()\n",
    "    qa_chain = create_stuff_documents_chain(llm=llm,prompt=prompt)\n",
    "    rag_chain= create_retrieval_chain(retriever,qa_chain)\n",
    "    return rag_chain\n",
    "    "
   ]
  },
  {
   "cell_type": "code",
   "execution_count": 45,
   "metadata": {},
   "outputs": [],
   "source": [
    "rag_chain = get_rag_chain(vector_db)"
   ]
  },
  {
   "cell_type": "code",
   "execution_count": 46,
   "metadata": {},
   "outputs": [
    {
     "data": {
      "text/plain": [
       "'**Career Path:**\\nBased on your resume, your career path appears to be in the field of **Data Science*, specifically as a **Data Scientist*. \\n\\n**Key Indicators:**\\n- Your job title is listed as \"Data Scientist\".\\n- Your skills section highlights skills in machine learning, deep learning, computer vision, NLP, and data visualization.\\n- Your experience and projects demonstrate a strong focus on data analytics, machine learning, and data science.\\n\\n**Potential Career Progression:**\\n1. **Junior Data Scientist**: You are currently in this role, focusing on building a strong foundation in data science and machine learning.\\n2. **Senior Data Scientist**: With experience, you can move into a senior role, leading projects and mentoring junior data scientists.\\n3. **Data Science Manager**: You can progress into a management role, overseeing data science teams and driving business strategy.\\n4. **Director of Data Science**: In this role, you will lead the data science function, driving innovation and growth.'"
      ]
     },
     "execution_count": 46,
     "metadata": {},
     "output_type": "execute_result"
    }
   ],
   "source": [
    "respnse = rag_chain.invoke({\"input\":\"what is my career path?\"})\n",
    "respnse['answer']"
   ]
  },
  {
   "cell_type": "code",
   "execution_count": 47,
   "metadata": {},
   "outputs": [
    {
     "data": {
      "text/plain": [
       "\"**Career Transition to Software Engineer:**\\n### Key Considerations:\\n* Your current background is in Data Science, which shares some similarities with Software Engineering, making a transition possible.\\n* You'll need to acquire new skills and build on your existing knowledge to become a competitive candidate.\\n\\n### Actionable Steps:\\n1. **Identify transferable skills**: Leverage your experience in programming languages like Python, data structures, and algorithms to build a foundation in software engineering.\\n2. **Learn new programming languages**: Familiarize yourself with languages commonly used in software engineering, such as Java, C++, or JavaScript.\\n3. **Develop software engineering skills**:\\n\\t* Data structures and algorithms\\n\\t* Object-Oriented Programming (OOP) concepts\\n\\t* Design patterns\\n\\t* Testing and debugging techniques\\n4. **Get familiar with software engineering frameworks and tools**:\\n\\t* Version control systems like Git\\n\\t* Agile development methodologies\\n\\t* Cloud platforms (e.g., AWS, Azure, Google Cloud)\\n5. **Build personal projects**:\\n\\t* Start with small projects to demonstrate your skills\\n\\t* Showcase your work on platforms like GitHub or GitLab\\n6. **Pursue relevant certifications or courses**:\\n\\t* Online courses (e.g., Coursera, Udemy, edX)\\n\\t* Certifications (e.g., AWS Certified Developer, Google Cloud Certified - Professional Cloud Developer)\\n7. **Network and join online communities**:\\n\\t* Attend industry events, meetups, or conferences\\n\\t* Participate in online forums (e.g., Reddit's r/learnprogramming, r/webdev)\\n8. **Highlight your skills and experience**:\\n\\t* Update your resume to emphasize your relevant skills and experience\\n\\t* Prepare to talk about your transition and how your data science background can be applied to software engineering\\n\\n### Additional Tips:\\n* Be patient and persistent; transitioning to a new field takes time and effort.\\n* Focus on building a strong foundation in software engineering principles and practices.\\n* Stay up-to-date with industry trends and developments to increase your chances of success.\""
      ]
     },
     "execution_count": 47,
     "metadata": {},
     "output_type": "execute_result"
    }
   ],
   "source": [
    "\n",
    "respnse = rag_chain.invoke({\"input\":\"i would like to shift my career path into software engineer,is possible what can i do can you provide the answer like points form?\"})\n",
    "respnse['answer']"
   ]
  },
  {
   "cell_type": "code",
   "execution_count": 48,
   "metadata": {},
   "outputs": [
    {
     "data": {
      "text/plain": [
       "\"I don't know. This question is not relevant for me. I am here to help you analyze and improve your resume. \\n\\nIf you'd like to discuss your resume or any related topics, I'd be happy to assist you. Please feel free to ask any questions or share your concerns about your resume.\""
      ]
     },
     "execution_count": 48,
     "metadata": {},
     "output_type": "execute_result"
    }
   ],
   "source": [
    "\n",
    "respnse = rag_chain.invoke({\"input\":\"in few days im suffering from heavy fever what can i do ?\"})\n",
    "respnse['answer']"
   ]
  },
  {
   "cell_type": "code",
   "execution_count": 49,
   "metadata": {},
   "outputs": [
    {
     "data": {
      "text/plain": [
       "\"You're welcome. I'm glad I could help. If you have any more questions or need further assistance with your resume, feel free to ask. \\n\\n**Next Steps:**\\n1. Review your resume and implement the suggested improvements.\\n2. Tailor your resume to your target job or industry.\\n3. Practice answering common interview questions related to your field.\\n\\nIf you need help with anything else, just let me know.\""
      ]
     },
     "execution_count": 49,
     "metadata": {},
     "output_type": "execute_result"
    }
   ],
   "source": [
    "respnse = rag_chain.invoke({\"input\":\"thank you for you answer its usefull for me thank you one again\"})\n",
    "respnse['answer']"
   ]
  },
  {
   "cell_type": "code",
   "execution_count": null,
   "metadata": {},
   "outputs": [],
   "source": []
  }
 ],
 "metadata": {
  "kernelspec": {
   "display_name": "resume_analyzer",
   "language": "python",
   "name": "python3"
  },
  "language_info": {
   "codemirror_mode": {
    "name": "ipython",
    "version": 3
   },
   "file_extension": ".py",
   "mimetype": "text/x-python",
   "name": "python",
   "nbconvert_exporter": "python",
   "pygments_lexer": "ipython3",
   "version": "3.10.0"
  }
 },
 "nbformat": 4,
 "nbformat_minor": 2
}
